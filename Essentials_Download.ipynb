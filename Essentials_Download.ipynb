{
  "nbformat": 4,
  "nbformat_minor": 0,
  "metadata": {
    "colab": {
      "provenance": []
    },
    "kernelspec": {
      "name": "python3",
      "display_name": "Python 3"
    },
    "language_info": {
      "name": "python"
    }
  },
  "cells": [
    {
      "cell_type": "code",
      "execution_count": 1,
      "metadata": {
        "id": "DBXM8eHwo71T",
        "colab": {
          "base_uri": "https://localhost:8080/"
        },
        "outputId": "1a08b6f7-d237-4407-8412-1cadeebc32d6"
      },
      "outputs": [
        {
          "output_type": "stream",
          "name": "stdout",
          "text": [
            "Mounted at /content/drive\n",
            "--2025-06-08 17:33:29--  https://gpt4all.io/models/gguf/mistral-7b-instruct-v0.1.Q4_0.gguf\n",
            "Resolving gpt4all.io (gpt4all.io)... 104.26.0.159, 172.67.71.169, 104.26.1.159, ...\n",
            "Connecting to gpt4all.io (gpt4all.io)|104.26.0.159|:443... connected.\n",
            "HTTP request sent, awaiting response... 200 OK\n",
            "Length: 4108916384 (3.8G)\n",
            "Saving to: ‘/content/drive/MyDrive/AI_Client/mistral-7b-instruct-v0.1.Q4_0.gguf’\n",
            "\n",
            "/content/drive/MyDr 100%[===================>]   3.83G  86.6MB/s    in 52s     \n",
            "\n",
            "2025-06-08 17:34:22 (74.7 MB/s) - ‘/content/drive/MyDrive/AI_Client/mistral-7b-instruct-v0.1.Q4_0.gguf’ saved [4108916384/4108916384]\n",
            "\n"
          ]
        }
      ],
      "source": [
        "# Mount Google Drive\n",
        "from google.colab import drive\n",
        "drive.mount('/content/drive')\n",
        "\n",
        "# Create folder if it doesn't exist\n",
        "import os\n",
        "drive_folder = \"/content/drive/MyDrive/AI_Client\"\n",
        "os.makedirs(drive_folder, exist_ok=True)\n",
        "\n",
        "# Download latest stable .gguf model (e.g., Mistral-7B-Instruct)\n",
        "model_url = \"https://gpt4all.io/models/gguf/mistral-7b-instruct-v0.1.Q4_0.gguf\"\n",
        "model_path = f\"{drive_folder}/mistral-7b-instruct-v0.1.Q4_0.gguf\"\n",
        "\n",
        "# Download model only if not already present\n",
        "if not os.path.exists(model_path):\n",
        "    !wget -O \"$model_path\" \"$model_url\"\n",
        "else:\n",
        "    print(\"✅ Model already exists in Drive.\")"
      ]
    },
    {
      "cell_type": "code",
      "source": [
        "# Create folder (if not already there)\n",
        "import os\n",
        "os.makedirs(\"/content/drive/MyDrive/AI_Client\", exist_ok=True)\n",
        "\n",
        "!wget -O /content/drive/MyDrive/AI_Client/intro_to_llms.pdf https://arxiv.org/pdf/1706.03762.pdf"
      ],
      "metadata": {
        "id": "bvYRf76vpCF8",
        "colab": {
          "base_uri": "https://localhost:8080/"
        },
        "outputId": "9f72765d-2da4-468a-d59e-8589a31329f1"
      },
      "execution_count": 2,
      "outputs": [
        {
          "output_type": "stream",
          "name": "stdout",
          "text": [
            "--2025-06-08 17:34:22--  https://arxiv.org/pdf/1706.03762.pdf\n",
            "Resolving arxiv.org (arxiv.org)... 151.101.195.42, 151.101.3.42, 151.101.131.42, ...\n",
            "Connecting to arxiv.org (arxiv.org)|151.101.195.42|:443... connected.\n",
            "HTTP request sent, awaiting response... 301 Moved Permanently\n",
            "Location: http://arxiv.org/pdf/1706.03762 [following]\n",
            "--2025-06-08 17:34:22--  http://arxiv.org/pdf/1706.03762\n",
            "Connecting to arxiv.org (arxiv.org)|151.101.195.42|:80... connected.\n",
            "HTTP request sent, awaiting response... 200 OK\n",
            "Length: 2215244 (2.1M) [application/pdf]\n",
            "Saving to: ‘/content/drive/MyDrive/AI_Client/intro_to_llms.pdf’\n",
            "\n",
            "/content/drive/MyDr 100%[===================>]   2.11M  --.-KB/s    in 0.06s   \n",
            "\n",
            "2025-06-08 17:34:22 (34.9 MB/s) - ‘/content/drive/MyDrive/AI_Client/intro_to_llms.pdf’ saved [2215244/2215244]\n",
            "\n"
          ]
        }
      ]
    }
  ]
}